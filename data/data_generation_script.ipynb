import pandas as pd
import numpy as np
import random
from datetime import datetime, timedelta

# Set seed for reproducibility
np.random.seed(42)

# === CONFIGURATION ===
NUM_USERS = 1000
START_DATE = datetime(2021, 1, 1)
END_DATE = datetime(2024, 12, 31)
regions = ['Africa', 'North America', 'Europe', 'Asia', 'South America']
plans = ['Free', 'Basic', 'Pro', 'Premium']
plan_prices = {'Free': 0, 'Basic': 10, 'Pro': 25, 'Premium': 50}
referral_sources = ['Organic', 'Google Ads', 'Social Media', 'Email Campaign', 'Affiliate']

# === USERS TABLE ===
user_ids = [f'u{str(i).zfill(5)}' for i in range(1, NUM_USERS + 1)]
signup_dates = [START_DATE + timedelta(days=random.randint(0, (END_DATE - START_DATE).days)) for _ in range(NUM_USERS)]

users = []
for uid, signup in zip(user_ids, signup_dates):
    plan = np.random.choice(plans, p=[0.2, 0.3, 0.3, 0.2])
    churned = np.random.rand() < 0.3
    churn_date = signup + timedelta(days=random.randint(30, 900)) if churned else None
    last_active_date = churn_date - timedelta(days=random.randint(1, 30)) if churned else END_DATE
    status = 'Churned' if churned else 'Active'

    users.append({
        'user_id': uid,
        'signup_date': signup.date(),
        'region': np.random.choice(regions),
        'subscription_plan': plan,
        'subscription_price': plan_prices[plan],
        'referral_source': np.random.choice(referral_sources),
        'status': status,
        'churn_date': churn_date.date() if churn_date else None,
        'last_active_date': last_active_date.date(),
        'is_enterprise_customer': np.random.choice(['Yes', 'No'], p=[0.1, 0.9])
    })

users_df = pd.DataFrame(users)


# === MONTHLY KPI TABLE ===
months = pd.date_range(start=START_DATE, end=END_DATE, freq='MS')
monthly_data = []

for m in months:
    new_signups = np.random.randint(200, 800)
    churned_users = np.random.randint(50, 300)
    active_users = np.random.randint(3000, 10000)
    mrr = active_users * np.random.uniform(15, 30)
    arr = mrr * 12
    ad_spend = np.random.uniform(5000, 25000)
    cac = ad_spend / new_signups
    arpu = mrr / active_users
    churn_rate = churned_users / (active_users + churned_users)
    ltv = arpu / churn_rate if churn_rate > 0 else 0

    monthly_data.append({
        'month': m.strftime('%Y-%m'),
        'new_signups': new_signups,
        'churned_users': churned_users,
        'net_growth': new_signups - churned_users,
        'total_active_users': active_users,
        'MRR': round(mrr, 2),
        'ARR': round(arr, 2),
        'average_ARPU': round(arpu, 2),
        'churn_rate': round(churn_rate, 4),
        'customer_lifetime_value': round(ltv, 2),
        'customer_acquisition_cost': round(cac, 2),
        'ad_spend': round(ad_spend, 2),
        'support_tickets': np.random.randint(200, 800),
        'avg_ticket_resolution_time': round(np.random.uniform(1, 5), 2)
    })

monthly_kpis_df = pd.DataFrame(monthly_data)


# === DAILY ACTIVITY TABLE (weekly snapshot) ===
activity_data = []
sampled_users = np.random.choice(user_ids, size=1000, replace=False)
all_dates = pd.date_range(start=START_DATE, end=END_DATE, freq='D')  # Daily for performance

for uid in sampled_users:
    for date in all_dates:
        activity_data.append({
            'event_date': date.date(),
            'user_id': uid,
            'logins': np.random.poisson(1),
            'tasks_created': np.random.poisson(5),
            'hours_active': round(np.random.exponential(1.5), 2),
            'features_used': np.random.choice(['Task Tracking', 'Collaboration', 'Reporting', 'Automations']),
            'subscription_status': np.random.choice(['Active', 'Cancelled', 'Trial'], p=[0.7, 0.2, 0.1])
        })

daily_activity_df = pd.DataFrame(activity_data)


# === SAVE TO CSV ===
users_df.to_csv(r"C:\Users\VICTORY\Downloads\users.csv", index=False)
monthly_kpis_df.to_csv(r"C:\Users\VICTORY\Downloads\monthly_kpis.csv", index=False)
daily_activity_df.to_csv(r"C:\Users\VICTORY\Downloads\daily_activity.csv", index=False)


print("✅ Dataset generation complete: users.csv, monthly_kpis.csv, daily_activity.csv")
