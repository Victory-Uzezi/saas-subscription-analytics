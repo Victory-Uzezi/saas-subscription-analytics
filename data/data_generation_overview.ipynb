{
 "cells": [
  {
   "cell_type": "markdown",
   "metadata": {},
   "source": [
    "# SaaS Data Generation Overview\n",
    "\n",
    "This notebook demonstrates the methodology for generating realistic SaaS subscription data for dashboard analysis.\n",
    "\n",
    "## Objectives\n",
    "1. Create realistic customer lifecycle data\n",
    "2. Generate subscription events with proper temporal relationships\n",
    "3. Calculate key business metrics for dashboard visualization"
   ]
  },
  {
   "cell_type": "markdown",
   "metadata": {},
   "source": [
    "## Data Generation Methodology\n",
    "\n",
    "### Customer Records\n",
    "- 10,000 customers across 2021-2024\n",
    "- Realistic signup patterns with seasonal variations\n",
    "- Multiple subscription tiers and acquisition channels\n",
    "\n",
    "### Key Business Logic\n",
    "- Trial-to-paid conversion rates: ~15-25%\n",
    "- Monthly churn rates: 5-8% depending on tier\n",
    "- Upgrade/downgrade patterns based on customer age\n",
    "\n",
    
   ]
  }
 ],
 "metadata": {
  "kernelspec": {
   "display_name": "Python 3",
   "language": "python",
   "name": "python3"
  }
 },
 "nbformat": 4,
 "nbformat_minor": 4
}
